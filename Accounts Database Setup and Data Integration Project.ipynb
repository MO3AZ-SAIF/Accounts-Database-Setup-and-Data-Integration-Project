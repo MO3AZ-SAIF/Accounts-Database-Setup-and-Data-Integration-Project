{
 "cells": [
  {
   "cell_type": "markdown",
   "metadata": {
    "id": "iZ4DqGJtdVpy"
   },
   "source": [
    "# **Accounts Database Setup and Data Integration Project**\n",
    "In this project, I built an accounts database composed of three tables. I utilized Pandas to efficiently extract data from CSV files, applied various data transformations to ensure consistency and accuracy, and then inserted the transformed data into the database. This process helped streamline data management and improved the overall structure of the dataset for future analysis.\n",
    "\n",
    "**Technologies Used:**\n",
    "* SQL                   \n",
    "* ETL Processes\n",
    "* Python\n",
    "* Pandas & Pyodbc"
   ]
  },
  {
   "cell_type": "markdown",
   "metadata": {
    "id": "5MBJl0_6gOcD"
   },
   "source": [
    "### ***Import Libraries:***"
   ]
  },
  {
   "cell_type": "code",
   "execution_count": 118,
   "metadata": {
    "id": "_g5wSNt_fxM-"
   },
   "outputs": [],
   "source": [
    "import pyodbc as od\n",
    "import pandas as pd\n",
    "import numpy as np\n",
    "import io"
   ]
  },
  {
   "cell_type": "markdown",
   "metadata": {},
   "source": [
    "### ***Create Connection Function:***"
   ]
  },
  {
   "cell_type": "code",
   "execution_count": 119,
   "metadata": {},
   "outputs": [],
   "source": [
    "try:\n",
    "    connection = od.connect(driver='{ODBC Driver 17 for SQL Server}',\n",
    "                            server='MOAAZ74',\n",
    "                            database='accounts',\n",
    "                            trusted_connection='yes')\n",
    "    cursor = connection.cursor()\n",
    "except od.Error as ex:\n",
    "    print('There is an issuse:\\t', ex)"
   ]
  },
  {
   "cell_type": "markdown",
   "metadata": {
    "id": "V1QiJQikg6ou"
   },
   "source": [
    "### ***Read data from accounts country:***"
   ]
  },
  {
   "cell_type": "code",
   "execution_count": 120,
   "metadata": {
    "colab": {
     "base_uri": "https://localhost:8080/"
    },
    "id": "kfEwawW-hgnZ",
    "outputId": "de2d691d-d52b-4670-f8ba-9c5fd39146db",
    "scrolled": true
   },
   "outputs": [],
   "source": [
    "try:\n",
    "    accounts_country_file = \"D:\\\\Courses\\\\Projects\\\\Project 2 - Basics Series\\\\Wealth Data\\\\Wealth-AccountsCountry.csv\"\n",
    "    accounts_country_df = pd.read_csv(accounts_country_file)\n",
    "    accounts_country_df = accounts_country_df[['Code', 'Short Name' , 'Table Name', 'Long Name', 'Currency Unit']]\n",
    "except:\n",
    "    print(\"Can't Read File!\")"
   ]
  },
  {
   "cell_type": "markdown",
   "metadata": {},
   "source": [
    "### ***Clean null values in accounts country:***"
   ]
  },
  {
   "cell_type": "code",
   "execution_count": 121,
   "metadata": {},
   "outputs": [],
   "source": [
    "accounts_country_df.dropna(axis=0,inplace=True)"
   ]
  },
  {
   "cell_type": "markdown",
   "metadata": {},
   "source": [
    "### ***Read data from accounts series:***"
   ]
  },
  {
   "cell_type": "code",
   "execution_count": 122,
   "metadata": {
    "code_folding": []
   },
   "outputs": [],
   "source": [
    "try:\n",
    "    accounts_series_file = \"D:\\\\Courses\\\\Projects\\\\Project 2 - Basics Series\\\\Wealth Data\\\\Wealth-AccountSeries.csv\"\n",
    "    accounts_series_df = pd.read_csv(accounts_series_file)\n",
    "    accounts_series_df = accounts_series_df[['Code', 'Topic', 'Indicator Name', 'Long definition']]\n",
    "except:\n",
    "    print(\"Can't Read File!\")"
   ]
  },
  {
   "cell_type": "markdown",
   "metadata": {},
   "source": [
    "### ***Read data from accounts data:***"
   ]
  },
  {
   "cell_type": "code",
   "execution_count": 123,
   "metadata": {},
   "outputs": [],
   "source": [
    "try:\n",
    "    accounts_data_file = \"D:\\\\Courses\\\\Projects\\\\Project 2 - Basics Series\\\\Wealth Data\\\\Wealth-AccountData.csv\"\n",
    "    accounts_data_df = pd.read_csv(accounts_data_file)\n",
    "    accounts_data_df = accounts_data_df[['Country Name', 'Country Code', 'Series Code', 'Series Name' ,'1995 [YR1995]','2000 [YR2000]','2005 [YR2005]', '2010 [YR2010]', '2014 [YR2014]']]\n",
    "except:\n",
    "    print(\"Can't Read File!\")"
   ]
  },
  {
   "cell_type": "markdown",
   "metadata": {},
   "source": [
    "### ***Insert data into accountsCountry table:***"
   ]
  },
  {
   "cell_type": "code",
   "execution_count": 124,
   "metadata": {},
   "outputs": [],
   "source": [
    "try:\n",
    "    sql = '''INSERT INTO accountsCountry(country_code, short_name , table_name, long_name, currency_unit) VALUES (?,?,?,?,?)'''\n",
    "    for i, row in accounts_country_df.iterrows():\n",
    "        cursor.execute(sql,list(row))\n",
    "    cursor.commit()\n",
    "except od.Error as ex:\n",
    "    print('There is an issuse:\\t', ex)"
   ]
  },
  {
   "cell_type": "markdown",
   "metadata": {},
   "source": [
    "### ***Insert data into accountsSeries table:***"
   ]
  },
  {
   "cell_type": "code",
   "execution_count": 125,
   "metadata": {},
   "outputs": [],
   "source": [
    "try:\n",
    "    sql = '''INSERT INTO accountsSeries(series_code ,topic, indicator_name,short_definition) VALUES (?,?,?,?)'''\n",
    "    for i, row in accounts_series_df.iterrows():\n",
    "        cursor.execute(sql,list(row))\n",
    "    cursor.commit()\n",
    "except od.Error as ex:\n",
    "    print('There is an issuse:\\t', ex)"
   ]
  },
  {
   "cell_type": "markdown",
   "metadata": {},
   "source": [
    "### ***Insert data into accountsData table:***"
   ]
  },
  {
   "cell_type": "code",
   "execution_count": 126,
   "metadata": {},
   "outputs": [],
   "source": [
    "try:\n",
    "    sql = '''INSERT INTO accountsData(country_name, country_code, series_code, indicator_name, year_1995, year_2000, year_2005, year_2010, year_2014)VALUES (?,?,?,?,?,?,?,?,?)'''\n",
    "    for i, row in accounts_data_df.iterrows():\n",
    "        cursor.execute(sql,list(row))\n",
    "    cursor.commit()\n",
    "except od.Error as ex:\n",
    "    print('There is an issuse:\\t', ex)"
   ]
  },
  {
   "cell_type": "markdown",
   "metadata": {},
   "source": [
    "### **Validate your data was inserted into the accounts country table:**"
   ]
  },
  {
   "cell_type": "code",
   "execution_count": null,
   "metadata": {},
   "outputs": [],
   "source": [
    "cursor.execute(\"SELECT * FROM accountsCountry\")\n",
    "for row in cursor:\n",
    "    print(row)"
   ]
  },
  {
   "cell_type": "markdown",
   "metadata": {},
   "source": [
    "### **Validate your data was inserted into the accounts series table:**"
   ]
  },
  {
   "cell_type": "code",
   "execution_count": null,
   "metadata": {},
   "outputs": [],
   "source": [
    "cursor.execute(\"SELECT * FROM accountsSeries\")\n",
    "for row in cursor:\n",
    "    print(row)"
   ]
  },
  {
   "cell_type": "markdown",
   "metadata": {},
   "source": [
    "### **Validate your data was inserted into the accounts data table:**"
   ]
  },
  {
   "cell_type": "code",
   "execution_count": null,
   "metadata": {},
   "outputs": [],
   "source": [
    "cursor.execute(\"SELECT * FROM accountsData\")\n",
    "for row in cursor:\n",
    "    print(row)"
   ]
  },
  {
   "cell_type": "markdown",
   "metadata": {},
   "source": [
    "### **Close all connections:**"
   ]
  },
  {
   "cell_type": "code",
   "execution_count": null,
   "metadata": {},
   "outputs": [],
   "source": [
    "cursor.close()\n",
    "connection.close()"
   ]
  },
  {
   "cell_type": "markdown",
   "metadata": {},
   "source": [
    "---------------------------------------"
   ]
  },
  {
   "cell_type": "markdown",
   "metadata": {},
   "source": [
    "### ***Author:***\n",
    "*Moaaz Abu-Saif Megahed Nasser*"
   ]
  },
  {
   "cell_type": "markdown",
   "metadata": {},
   "source": [
    "## <h3 align=\"center\"> Thanks ❤️️ <h3/>"
   ]
  }
 ],
 "metadata": {
  "colab": {
   "collapsed_sections": [
    "5MBJl0_6gOcD"
   ],
   "provenance": []
  },
  "kernelspec": {
   "display_name": "Python 3 (ipykernel)",
   "language": "python",
   "name": "python3"
  },
  "language_info": {
   "codemirror_mode": {
    "name": "ipython",
    "version": 3
   },
   "file_extension": ".py",
   "mimetype": "text/x-python",
   "name": "python",
   "nbconvert_exporter": "python",
   "pygments_lexer": "ipython3",
   "version": "3.12.3"
  },
  "varInspector": {
   "cols": {
    "lenName": 16,
    "lenType": 16,
    "lenVar": 40
   },
   "kernels_config": {
    "python": {
     "delete_cmd_postfix": "",
     "delete_cmd_prefix": "del ",
     "library": "var_list.py",
     "varRefreshCmd": "print(var_dic_list())"
    },
    "r": {
     "delete_cmd_postfix": ") ",
     "delete_cmd_prefix": "rm(",
     "library": "var_list.r",
     "varRefreshCmd": "cat(var_dic_list()) "
    }
   },
   "types_to_exclude": [
    "module",
    "function",
    "builtin_function_or_method",
    "instance",
    "_Feature"
   ],
   "window_display": false
  },
  "vscode": {
   "interpreter": {
    "hash": "793e25807add4af491cca493526aa4a10fb5270a68eb90bde8b4378a08ec26cc"
   }
  }
 },
 "nbformat": 4,
 "nbformat_minor": 1
}
